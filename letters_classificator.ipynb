{
  "cells": [
    {
      "cell_type": "markdown",
      "metadata": {
        "id": "dx3H9AdQurPH"
      },
      "source": [
        "# Constants"
      ]
    },
    {
      "cell_type": "code",
      "execution_count": null,
      "metadata": {
        "id": "RbLwTS86u0s5"
      },
      "outputs": [],
      "source": [
        "DRAWING_FILENAME = 'drawing.png'"
      ]
    },
    {
      "cell_type": "markdown",
      "metadata": {
        "id": "86iGTnXZnmOl"
      },
      "source": [
        "# Dataset download"
      ]
    },
    {
      "cell_type": "markdown",
      "metadata": {
        "id": "TCCR5yYn6-k2"
      },
      "source": [
        "https://www.kaggle.com/code/ashenonebot1/handwritten-digits-letters-classification"
      ]
    },
    {
      "cell_type": "code",
      "execution_count": null,
      "metadata": {
        "id": "Ixl8VBhG2BV0",
        "colab": {
          "base_uri": "https://localhost:8080/"
        },
        "outputId": "dbf1728d-7b2e-460d-e351-e5e623b8707d"
      },
      "outputs": [
        {
          "output_type": "stream",
          "name": "stdout",
          "text": [
            "mkdir: cannot create directory ‘/root/.kaggle/’: File exists\n",
            "mv: cannot stat './kaggle.json': No such file or directory\n"
          ]
        }
      ],
      "source": [
        "! mkdir /root/.kaggle/\n",
        "! mv ./kaggle.json /root/.kaggle/"
      ]
    },
    {
      "cell_type": "code",
      "execution_count": null,
      "metadata": {
        "colab": {
          "base_uri": "https://localhost:8080/"
        },
        "id": "XU0PRr_X1HTP",
        "outputId": "edb4d450-d84a-4f1d-be02-ae932890cd50"
      },
      "outputs": [
        {
          "output_type": "stream",
          "name": "stdout",
          "text": [
            "Warning: Your Kaggle API key is readable by other users on this system! To fix this, you can run 'chmod 600 /root/.kaggle/kaggle.json'\n",
            "Dataset URL: https://www.kaggle.com/datasets/crawford/emnist\n",
            "License(s): CC0-1.0\n",
            "emnist.zip: Skipping, found more recently modified local copy (use --force to force download)\n"
          ]
        }
      ],
      "source": [
        "! kaggle datasets download -d crawford/emnist"
      ]
    },
    {
      "cell_type": "code",
      "execution_count": null,
      "metadata": {
        "colab": {
          "base_uri": "https://localhost:8080/"
        },
        "id": "H6DHrt_d3JWB",
        "outputId": "88e9d155-9ab3-474a-ffb7-e7bfb101ad03"
      },
      "outputs": [
        {
          "output_type": "stream",
          "name": "stdout",
          "text": [
            "Archive:  emnist.zip\n",
            "replace emnist-balanced-mapping.txt? [y]es, [n]o, [A]ll, [N]one, [r]ename: "
          ]
        }
      ],
      "source": [
        "! unzip emnist.zip"
      ]
    },
    {
      "cell_type": "markdown",
      "metadata": {
        "id": "GC89DFqJ-TAw"
      },
      "source": [
        "#  Model\n",
        "\n"
      ]
    },
    {
      "cell_type": "code",
      "execution_count": null,
      "metadata": {
        "id": "BVHkEMHp9fUu"
      },
      "outputs": [],
      "source": [
        "import tensorflow as tf\n",
        "import numpy as np\n",
        "import matplotlib.pyplot as plt\n",
        "import pandas as pd\n",
        "import cv2"
      ]
    },
    {
      "cell_type": "code",
      "execution_count": null,
      "metadata": {
        "colab": {
          "base_uri": "https://localhost:8080/"
        },
        "id": "naFakm8k3mCl",
        "outputId": "b51f2dd3-6711-43cf-d9ab-3b2f49a9ca22"
      },
      "outputs": [
        {
          "output_type": "stream",
          "name": "stdout",
          "text": [
            "label 1 2 3 4 5 6 7 8 9 10 11 12 13 14 15 16 17 18 19 20 21 22 23 24 25 26 27 28 29 30 31 32 33 34 35 36 37 38 39 40 41 42 43 44 45 46 47 48 49 50 51 52 53 54 55 56 57 58 59 60 61 62 63 64 65 66 67 68 69 70 71 72 73 74 75 76 77 78 79 80 81 82 83 84 85 86 87 88 89 90 91 92 93 94 95 96 97 98 99 100 101 102 103 104 105 106 107 108 109 110 111 112 113 114 115 116 117 118 119 120 121 122 123 124 125 126 127 128 129 130 131 132 133 134 135 136 137 138 139 140 141 142 143 144 145 146 147 148 149 150 151 152 153 154 155 156 157 158 159 160 161 162 163 164 165 166 167 168 169 170 171 172 173 174 175 176 177 178 179 180 181 182 183 184 185 186 187 188 189 190 191 192 193 194 195 196 197 198 199 200 201 202 203 204 205 206 207 208 209 210 211 212 213 214 215 216 217 218 219 220 221 222 223 224 225 226 227 228 229 230 231 232 233 234 235 236 237 238 239 240 241 242 243 244 245 246 247 248 249 250 251 252 253 254 255 256 257 258 259 260 261 262 263 264 265 266 267 268 269 270 271 272 273 274 275 276 277 278 279 280 281 282 283 284 285 286 287 288 289 290 291 292 293 294 295 296 297 298 299 300 301 302 303 304 305 306 307 308 309 310 311 312 313 314 315 316 317 318 319 320 321 322 323 324 325 326 327 328 329 330 331 332 333 334 335 336 337 338 339 340 341 342 343 344 345 346 347 348 349 350 351 352 353 354 355 356 357 358 359 360 361 362 363 364 365 366 367 368 369 370 371 372 373 374 375 376 377 378 379 380 381 382 383 384 385 386 387 388 389 390 391 392 393 394 395 396 397 398 399 400 401 402 403 404 405 406 407 408 409 410 411 412 413 414 415 416 417 418 419 420 421 422 423 424 425 426 427 428 429 430 431 432 433 434 435 436 437 438 439 440 441 442 443 444 445 446 447 448 449 450 451 452 453 454 455 456 457 458 459 460 461 462 463 464 465 466 467 468 469 470 471 472 473 474 475 476 477 478 479 480 481 482 483 484 485 486 487 488 489 490 491 492 493 494 495 496 497 498 499 500 501 502 503 504 505 506 507 508 509 510 511 512 513 514 515 516 517 518 519 520 521 522 523 524 525 526 527 528 529 530 531 532 533 534 535 536 537 538 539 540 541 542 543 544 545 546 547 548 549 550 551 552 553 554 555 556 557 558 559 560 561 562 563 564 565 566 567 568 569 570 571 572 573 574 575 576 577 578 579 580 581 582 583 584 585 586 587 588 589 590 591 592 593 594 595 596 597 598 599 600 601 602 603 604 605 606 607 608 609 610 611 612 613 614 615 616 617 618 619 620 621 622 623 624 625 626 627 628 629 630 631 632 633 634 635 636 637 638 639 640 641 642 643 644 645 646 647 648 649 650 651 652 653 654 655 656 657 658 659 660 661 662 663 664 665 666 667 668 669 670 671 672 673 674 675 676 677 678 679 680 681 682 683 684 685 686 687 688 689 690 691 692 693 694 695 696 697 698 699 700 701 702 703 704 705 706 707 708 709 710 711 712 713 714 715 716 717 718 719 720 721 722 723 724 725 726 727 728 729 730 731 732 733 734 735 736 737 738 739 740 741 742 743 744 745 746 747 748 749 750 751 752 753 754 755 756 757 758 759 760 761 762 763 764 765 766 767 768 769 770 771 772 773 774 775 776 777 778 779 780 781 782 783 784\n"
          ]
        }
      ],
      "source": [
        "train_dataset = pd.read_csv('emnist-letters-train.csv', header=None)\n",
        "test_dataset = pd.read_csv('emnist-letters-test.csv', header=None)\n",
        "\n",
        "num_columns = 785\n",
        "\n",
        "# Create column names\n",
        "columns = ['label'] + list(range(1, num_columns))\n",
        "\n",
        "# Assign column names to the DataFrames\n",
        "train_dataset.columns = columns\n",
        "test_dataset.columns = columns\n",
        "\n",
        "# Reset index\n",
        "train_dataset = train_dataset.reset_index(drop=True)\n",
        "test_dataset = test_dataset.reset_index(drop=True)\n",
        "\n",
        "# Extract features and labels\n",
        "x_train = train_dataset.drop(['label'], axis='columns')\n",
        "y_train = train_dataset['label']\n",
        "x_test = test_dataset.drop(['label'], axis='columns')\n",
        "y_test = test_dataset['label']\n",
        "\n",
        "# Normalize features\n",
        "x_train, x_test = x_train / 255.0, x_test / 255.0\n",
        "y_train, y_test = y_train - 1, y_test - 1\n",
        "\n",
        "# Display the first few rows of the DataFrame\n",
        "print(*train_dataset.head(2))\n",
        "# print(train_dataset.head(0))"
      ]
    },
    {
      "cell_type": "code",
      "execution_count": null,
      "metadata": {
        "id": "2JAzg376K8PO"
      },
      "outputs": [],
      "source": [
        "num_to_char = {\n",
        "    0: 'A', 1: 'B', 2: 'C', 3: 'D', 4: 'E', 5: 'F', 6: 'G',\n",
        "    7: 'H', 8: 'I', 9: 'J', 10: 'K', 11: 'L', 12: 'M', 13: 'N',\n",
        "    14: 'O', 15: 'P', 16: 'Q', 17: 'R', 18: 'S', 19: 'T', 20: 'U',\n",
        "    21: 'V', 22: 'W', 23: 'X', 24: 'Y', 25: 'Z'\n",
        "}\n"
      ]
    },
    {
      "cell_type": "code",
      "execution_count": null,
      "metadata": {
        "id": "YrgQP58dMwj2"
      },
      "outputs": [],
      "source": [
        "model = tf.keras.models.Sequential([\n",
        "  tf.keras.layers.Input(shape=(784,)),\n",
        "  tf.keras.layers.Dense(128, activation='relu'),\n",
        "  tf.keras.layers.Dropout(0.2),\n",
        "  tf.keras.layers.Dense(26, activation=\"softmax\")\n",
        "])"
      ]
    },
    {
      "cell_type": "code",
      "execution_count": null,
      "metadata": {
        "colab": {
          "base_uri": "https://localhost:8080/"
        },
        "id": "CG2qIJMzSKao",
        "outputId": "1c37da5c-1184-4ae7-9f4c-5aa9526ae6e7"
      },
      "outputs": [
        {
          "output_type": "stream",
          "name": "stdout",
          "text": [
            "Epoch 1/5\n"
          ]
        },
        {
          "output_type": "stream",
          "name": "stderr",
          "text": [
            "/usr/local/lib/python3.10/dist-packages/keras/src/backend.py:5727: UserWarning: \"`sparse_categorical_crossentropy` received `from_logits=True`, but the `output` argument was produced by a Softmax activation and thus does not represent logits. Was this intended?\n",
            "  output, from_logits = _get_logits(\n"
          ]
        },
        {
          "output_type": "stream",
          "name": "stdout",
          "text": [
            "2775/2775 [==============================] - 22s 8ms/step - loss: 0.9497 - accuracy: 0.7180\n",
            "Epoch 2/5\n",
            "2775/2775 [==============================] - 13s 5ms/step - loss: 0.5918 - accuracy: 0.8185\n",
            "Epoch 3/5\n",
            "2775/2775 [==============================] - 20s 7ms/step - loss: 0.5186 - accuracy: 0.8390\n",
            "Epoch 4/5\n",
            "2775/2775 [==============================] - 21s 7ms/step - loss: 0.4776 - accuracy: 0.8513\n",
            "Epoch 5/5\n",
            "2775/2775 [==============================] - 15s 5ms/step - loss: 0.4528 - accuracy: 0.8570\n"
          ]
        },
        {
          "output_type": "execute_result",
          "data": {
            "text/plain": [
              "<keras.src.callbacks.History at 0x7e94cb2604f0>"
            ]
          },
          "metadata": {},
          "execution_count": 25
        }
      ],
      "source": [
        "model.compile(optimizer=\"adam\",\n",
        "              loss=tf.keras.losses.SparseCategoricalCrossentropy(from_logits=True),\n",
        "              metrics=[\"accuracy\"])\n",
        "\n",
        "model.fit(x_train, y_train, epochs=5)"
      ]
    },
    {
      "cell_type": "code",
      "execution_count": null,
      "metadata": {
        "id": "suTCFz6BWc3q",
        "outputId": "93413979-2634-4cf9-dc7f-e9de2f63c975",
        "colab": {
          "base_uri": "https://localhost:8080/"
        }
      },
      "outputs": [
        {
          "output_type": "stream",
          "name": "stderr",
          "text": [
            "/usr/local/lib/python3.10/dist-packages/keras/src/backend.py:5727: UserWarning: \"`sparse_categorical_crossentropy` received `from_logits=True`, but the `output` argument was produced by a Softmax activation and thus does not represent logits. Was this intended?\n",
            "  output, from_logits = _get_logits(\n"
          ]
        },
        {
          "output_type": "stream",
          "name": "stdout",
          "text": [
            "463/463 - 2s - loss: 0.4351 - accuracy: 0.8621 - 2s/epoch - 4ms/step\n"
          ]
        },
        {
          "output_type": "execute_result",
          "data": {
            "text/plain": [
              "[0.435128390789032, 0.8620945811271667]"
            ]
          },
          "metadata": {},
          "execution_count": 26
        }
      ],
      "source": [
        "model.evaluate(x_test,  y_test, verbose=2)"
      ]
    },
    {
      "cell_type": "markdown",
      "metadata": {
        "id": "5MgQj3uMEnB2"
      },
      "source": [
        "# Draw Canvas"
      ]
    },
    {
      "cell_type": "code",
      "execution_count": null,
      "metadata": {
        "id": "UHjqPxyDCqRO"
      },
      "outputs": [],
      "source": [
        "from IPython.display import HTML, Image\n",
        "from google.colab.output import eval_js\n",
        "from base64 import b64decode\n",
        "\n",
        "canvas_html = \"\"\"\n",
        "<main style=\"margin: auto; display: flex; flex-direction: column; gap: 20px\">\n",
        "  <div style=\"position: relative\">\n",
        "    <canvas style=\"border: 2px solid black\"></canvas>\n",
        "    <div\n",
        "      class=\"top-margin\"\n",
        "      style=\"height: 2px; margin-left: 2px; width: 100%%; position: absolute\"\n",
        "    ></div>\n",
        "    <div\n",
        "      class=\"bottom-margin\"\n",
        "      style=\"height: 2px; margin-left: 2px; width: 100%%; position: absolute\"\n",
        "    ></div>\n",
        "  </div>\n",
        "  <div style=\"display: flex; justify-content: center; gap: 5px\">\n",
        "    <button\n",
        "      id=\"predict\"\n",
        "      style=\"\n",
        "        border-radius: 50px;\n",
        "        height: 40px;\n",
        "        width: 150px;\n",
        "        box-shadow: 0 0 10px 0 rgba(0, 0, 0, 0.2);\n",
        "        background-color: black;\n",
        "        border: 0;\n",
        "        color: white;\n",
        "        transition: all 0.18s ease-in-out;\n",
        "      \"\n",
        "    >\n",
        "      Predecir\n",
        "    </button>\n",
        "    <button\n",
        "      id=\"delete\"\n",
        "      style=\"\n",
        "        border-radius: 50px;\n",
        "        height: 40px;\n",
        "        width: 150px;\n",
        "        box-shadow: 0 0 10px 0 rgba(0, 0, 0, 0.2);\n",
        "        background-color: white;\n",
        "        border: 0;\n",
        "        color: black;\n",
        "        transition: all 0.18s ease-in-out;\n",
        "      \"\n",
        "    >\n",
        "      Borrar\n",
        "    </button>\n",
        "  </div>\n",
        "</main>\n",
        "\n",
        "<script>\n",
        "  width = %d\n",
        "  height = %d\n",
        "  lineWidth = %d\n",
        "  marginsPadding = \"%s\"\n",
        "  marginsColor = \"%s\"\n",
        "\n",
        "\n",
        "  let topMargin = document.querySelector(\".top-margin\");\n",
        "  let bottomMargin = document.querySelector(\".bottom-margin\");\n",
        "\n",
        "  topMargin.style.top = marginsPadding;\n",
        "  bottomMargin.style.bottom = marginsPadding;\n",
        "\n",
        "  topMargin.style.backgroundColor = marginsColor;\n",
        "  bottomMargin.style.backgroundColor = marginsColor;\n",
        "\n",
        "  let canvas = document.querySelector(\"canvas\");\n",
        "  canvas.width = width;\n",
        "  canvas.height = height;\n",
        "  canvas.style.backgroundColor = \"white\";\n",
        "\n",
        "  let main = document.querySelector(\"main\");\n",
        "  main.style.width = width + \"px\";\n",
        "  main.style.height = height + \"px\";\n",
        "\n",
        "  let ctx = canvas.getContext(\"2d\");\n",
        "  ctx.lineJoin = ctx.lineCap = \"round\";\n",
        "  ctx.lineWidth = lineWidth;\n",
        "\n",
        "  let button = document.querySelector(\"#predict\");\n",
        "  let deleteButton = document.querySelector(\"#delete\");\n",
        "\n",
        "  let mouse = { x: 0, y: 0 };\n",
        "\n",
        "  canvas.addEventListener(\"mousemove\", function (e) {\n",
        "    mouse.x = e.pageX - this.parentElement.offsetLeft;\n",
        "    mouse.y = e.pageY - this.parentElement.offsetTop;\n",
        "  });\n",
        "\n",
        "  canvas.onmousedown = () => {\n",
        "    ctx.beginPath();\n",
        "    ctx.moveTo(mouse.x, mouse.y);\n",
        "    canvas.addEventListener(\"mousemove\", onPaint);\n",
        "  };\n",
        "\n",
        "  canvas.onmouseup = () => {\n",
        "    canvas.removeEventListener(\"mousemove\", onPaint);\n",
        "  };\n",
        "\n",
        "  let onPaint = () => {\n",
        "    ctx.lineTo(mouse.x, mouse.y);\n",
        "    ctx.stroke();\n",
        "  };\n",
        "\n",
        "  deleteButton.addEventListener(\"click\", () => {\n",
        "    ctx.clearRect(0, 0, canvas.width, canvas.height);\n",
        "  });\n",
        "\n",
        "  let data = new Promise((resolve) => {\n",
        "    button.onclick = () => {\n",
        "      // Guarda lo que se ha dibujado en el canvas\n",
        "      let imageData = canvas.toDataURL(\"image/jpg\");\n",
        "\n",
        "      // Establece el color de fondo blanco\n",
        "      ctx.fillStyle = \"white\";\n",
        "      ctx.fillRect(0, 0, canvas.width, canvas.height);\n",
        "\n",
        "      // Dibuja la imagen sobre el fondo blanco\n",
        "      let img = new Image();\n",
        "      img.onload = function () {\n",
        "        ctx.drawImage(img, 0, 0);\n",
        "\n",
        "        // Resuelve la promesa con los datos de la imagen completa\n",
        "        resolve(canvas.toDataURL(\"image/jpg\"));\n",
        "      };\n",
        "      img.src = imageData;\n",
        "    };\n",
        "  });\n",
        "</script>\n",
        "\"\"\"\n",
        "\n",
        "def draw(filename, w, h, line_width, margins_padding, margins_color):\n",
        "  display(HTML(canvas_html % (w, h, line_width, margins_padding, margins_color)))\n",
        "  data = eval_js(\"data\")\n",
        "  binary = b64decode(data.split(',')[1])\n",
        "  with open(filename, 'wb') as f:\n",
        "    f.write(binary)\n",
        "  return len(binary)"
      ]
    },
    {
      "cell_type": "markdown",
      "metadata": {
        "id": "y2xE1r-uqE8Y"
      },
      "source": [
        "# Text Image Preprocess"
      ]
    },
    {
      "cell_type": "code",
      "execution_count": null,
      "metadata": {
        "id": "EuxFR0NNqS-K"
      },
      "outputs": [],
      "source": [
        "import imutils\n",
        "from imutils.contours import sort_contours\n",
        "\n",
        "def preprocessTextImage(filename):\n",
        "  # load the input image from disk, convert it to grayscale, and blur\n",
        "  # it to reduce noise\n",
        "  image = cv2.imread(filename)\n",
        "  gray = cv2.cvtColor(image, cv2.COLOR_BGR2GRAY)\n",
        "  blurred = cv2.GaussianBlur(gray, (5, 5), 0)\n",
        "\n",
        "  # perform edge detection, find contours in the edge map, and sort the\n",
        "  # resulting contours from left-to-right\n",
        "  edged = cv2.Canny(blurred, 30, 150)\n",
        "  cnts = cv2.findContours(edged.copy(), cv2.RETR_EXTERNAL,\n",
        "    cv2.CHAIN_APPROX_SIMPLE)\n",
        "  cnts = imutils.grab_contours(cnts)\n",
        "  cnts = sort_contours(cnts, method=\"left-to-right\")[0]\n",
        "\n",
        "  # initialize the list of contour bounding boxes and associated\n",
        "  # characters that we'll be OCR'ing\n",
        "  chars = []\n",
        "\n",
        "  # loop over the contours\n",
        "  for c in cnts:\n",
        "    # compute the bounding box of the contour\n",
        "    (x, y, w, h) = cv2.boundingRect(c)\n",
        "    # filter out bounding boxes, ensuring they are neither too small\n",
        "    # nor too large\n",
        "    if (w >= 5 and w <= 150) and (h >= 15 and h <= 120):\n",
        "      # extract the character and threshold it to make the character\n",
        "      # appear as *white* (foreground) on a *black* background, then\n",
        "      # grab the width and height of the thresholded image\n",
        "      roi = gray[y:y + h, x:x + w]\n",
        "      thresh = cv2.threshold(roi, 0, 255,\n",
        "        cv2.THRESH_BINARY_INV | cv2.THRESH_OTSU)[1]\n",
        "      (tH, tW) = thresh.shape\n",
        "      # if the width is greater than the height, resize along the\n",
        "      # width dimension\n",
        "      if tW > tH:\n",
        "        thresh = imutils.resize(thresh, width=28)\n",
        "      # otherwise, resize along the height\n",
        "      else:\n",
        "        thresh = imutils.resize(thresh, height=28)\n",
        "\n",
        "      # re-grab the image dimensions (now that its been resized)\n",
        "      # and then determine how much we need to pad the width and\n",
        "      # height such that our image will be 28x28\n",
        "      (tH, tW) = thresh.shape\n",
        "      extra_padding = 5\n",
        "      # pad the image and force 32x32 dimensions\n",
        "      padded = cv2.copyMakeBorder(thresh, top=extra_padding, bottom=extra_padding,\n",
        "        left=extra_padding, right=extra_padding, borderType=cv2.BORDER_CONSTANT,\n",
        "        value=(0, 0, 0))\n",
        "      padded = cv2.resize(padded, (28, 28))\n",
        "      # prepare the padded image for classification via our\n",
        "      # handwriting OCR model\n",
        "      padded = padded.astype(\"float32\") / 255.0\n",
        "      padded = np.expand_dims(padded, axis=-1)\n",
        "      # update our list of characters that will be OCR'd\n",
        "\n",
        "      flipped = cv2.flip(padded, 1)\n",
        "      center = (flipped.shape[1] // 2, flipped.shape[0] // 2)\n",
        "      rotated = cv2.rotate(flipped, cv2.ROTATE_90_COUNTERCLOCKWISE, center)\n",
        "\n",
        "      chars.append((rotated, (x, y, w, h)))\n",
        "\n",
        "  # extract the bounding box locations and padded characters\n",
        "  boxes = [b[1] for b in chars]\n",
        "  chars = np.array([c[0] for c in chars], dtype=\"float32\")\n",
        "\n",
        "  return (chars, boxes, image)"
      ]
    },
    {
      "cell_type": "markdown",
      "metadata": {
        "id": "qHwiFhSjpujW"
      },
      "source": [
        "# App"
      ]
    },
    {
      "cell_type": "code",
      "execution_count": null,
      "metadata": {
        "colab": {
          "base_uri": "https://localhost:8080/",
          "height": 429
        },
        "id": "N7Ym7JKQp0fZ",
        "outputId": "f155bf1c-8ade-4e18-e00b-68749258a149"
      },
      "outputs": [
        {
          "output_type": "display_data",
          "data": {
            "text/plain": [
              "<IPython.core.display.HTML object>"
            ],
            "text/html": [
              "\n",
              "<main style=\"margin: auto; display: flex; flex-direction: column; gap: 20px\">\n",
              "  <div style=\"position: relative\">\n",
              "    <canvas style=\"border: 2px solid black\"></canvas>\n",
              "    <div\n",
              "      class=\"top-margin\"\n",
              "      style=\"height: 2px; margin-left: 2px; width: 100%; position: absolute\"\n",
              "    ></div>\n",
              "    <div\n",
              "      class=\"bottom-margin\"\n",
              "      style=\"height: 2px; margin-left: 2px; width: 100%; position: absolute\"\n",
              "    ></div>\n",
              "  </div>\n",
              "  <div style=\"display: flex; justify-content: center; gap: 5px\">\n",
              "    <button\n",
              "      id=\"predict\"\n",
              "      style=\"\n",
              "        border-radius: 50px;\n",
              "        height: 40px;\n",
              "        width: 150px;\n",
              "        box-shadow: 0 0 10px 0 rgba(0, 0, 0, 0.2);\n",
              "        background-color: black;\n",
              "        border: 0;\n",
              "        color: white;\n",
              "        transition: all 0.18s ease-in-out;\n",
              "      \"\n",
              "    >\n",
              "      Predecir\n",
              "    </button>\n",
              "    <button\n",
              "      id=\"delete\"\n",
              "      style=\"\n",
              "        border-radius: 50px;\n",
              "        height: 40px;\n",
              "        width: 150px;\n",
              "        box-shadow: 0 0 10px 0 rgba(0, 0, 0, 0.2);\n",
              "        background-color: white;\n",
              "        border: 0;\n",
              "        color: black;\n",
              "        transition: all 0.18s ease-in-out;\n",
              "      \"\n",
              "    >\n",
              "      Borrar\n",
              "    </button>\n",
              "  </div>\n",
              "</main>\n",
              "\n",
              "<script>\n",
              "  width = 800\n",
              "  height = 200\n",
              "  lineWidth = 12\n",
              "  marginsPadding = \"30%\"\n",
              "  marginsColor = \"green\"\n",
              "\n",
              "\n",
              "  let topMargin = document.querySelector(\".top-margin\");\n",
              "  let bottomMargin = document.querySelector(\".bottom-margin\");\n",
              "\n",
              "  topMargin.style.top = marginsPadding;\n",
              "  bottomMargin.style.bottom = marginsPadding;\n",
              "\n",
              "  topMargin.style.backgroundColor = marginsColor;\n",
              "  bottomMargin.style.backgroundColor = marginsColor;\n",
              "\n",
              "  let canvas = document.querySelector(\"canvas\");\n",
              "  canvas.width = width;\n",
              "  canvas.height = height;\n",
              "  canvas.style.backgroundColor = \"white\";\n",
              "\n",
              "  let main = document.querySelector(\"main\");\n",
              "  main.style.width = width + \"px\";\n",
              "  main.style.height = height + \"px\";\n",
              "\n",
              "  let ctx = canvas.getContext(\"2d\");\n",
              "  ctx.lineJoin = ctx.lineCap = \"round\";\n",
              "  ctx.lineWidth = lineWidth;\n",
              "\n",
              "  let button = document.querySelector(\"#predict\");\n",
              "  let deleteButton = document.querySelector(\"#delete\");\n",
              "\n",
              "  let mouse = { x: 0, y: 0 };\n",
              "\n",
              "  canvas.addEventListener(\"mousemove\", function (e) {\n",
              "    mouse.x = e.pageX - this.parentElement.offsetLeft;\n",
              "    mouse.y = e.pageY - this.parentElement.offsetTop;\n",
              "  });\n",
              "\n",
              "  canvas.onmousedown = () => {\n",
              "    ctx.beginPath();\n",
              "    ctx.moveTo(mouse.x, mouse.y);\n",
              "    canvas.addEventListener(\"mousemove\", onPaint);\n",
              "  };\n",
              "\n",
              "  canvas.onmouseup = () => {\n",
              "    canvas.removeEventListener(\"mousemove\", onPaint);\n",
              "  };\n",
              "\n",
              "  let onPaint = () => {\n",
              "    ctx.lineTo(mouse.x, mouse.y);\n",
              "    ctx.stroke();\n",
              "  };\n",
              "\n",
              "  deleteButton.addEventListener(\"click\", () => {\n",
              "    ctx.clearRect(0, 0, canvas.width, canvas.height);\n",
              "  });\n",
              "\n",
              "  let data = new Promise((resolve) => {\n",
              "    button.onclick = () => {\n",
              "      // Guarda lo que se ha dibujado en el canvas\n",
              "      let imageData = canvas.toDataURL(\"image/jpg\");\n",
              "\n",
              "      // Establece el color de fondo blanco\n",
              "      ctx.fillStyle = \"white\";\n",
              "      ctx.fillRect(0, 0, canvas.width, canvas.height);\n",
              "\n",
              "      // Dibuja la imagen sobre el fondo blanco\n",
              "      let img = new Image();\n",
              "      img.onload = function () {\n",
              "        ctx.drawImage(img, 0, 0);\n",
              "\n",
              "        // Resuelve la promesa con los datos de la imagen completa\n",
              "        resolve(canvas.toDataURL(\"image/jpg\"));\n",
              "      };\n",
              "      img.src = imageData;\n",
              "    };\n",
              "  });\n",
              "</script>\n"
            ]
          },
          "metadata": {}
        },
        {
          "output_type": "stream",
          "name": "stdout",
          "text": [
            "1/1 [==============================] - 0s 38ms/step\n",
            "1/1 [==============================] - 0s 32ms/step\n",
            "1/1 [==============================] - 0s 40ms/step\n",
            "1/1 [==============================] - 0s 34ms/step\n"
          ]
        },
        {
          "output_type": "display_data",
          "data": {
            "text/plain": [
              "<Figure size 640x480 with 1 Axes>"
            ],
            "image/png": "[encoded data removed]"
          },
          "metadata": {}
        }
      ],
      "source": [
        "draw(filename=DRAWING_FILENAME, w=800, h=200, line_width=12, margins_padding=\"30%\", margins_color=\"green\")\n",
        "(chars, boxes, image) = preprocessTextImage(filename=DRAWING_FILENAME)\n",
        "\n",
        "result = ''\n",
        "for c in chars:\n",
        "  formatted_char = c.flatten().reshape(-1, 28*28)\n",
        "  probabilities = model.predict(formatted_char)\n",
        "  prediction = np.argmax(probabilities)\n",
        "  result += num_to_char.get(prediction)\n",
        "\n",
        "for i, (x, y, w, h) in enumerate(boxes):\n",
        "  # draw the prediction on the image\n",
        "  cv2.rectangle(image, (x, y), (x + w, y + h), (0, 255, 0), 2)\n",
        "  cv2.putText(image, result[i], (x, y - 8), cv2.FONT_HERSHEY_SIMPLEX, 0.7,  (0, 255, 0), 2)\n",
        "\n",
        "# show the image\n",
        "plt.imshow(image)\n",
        "plt.axis('off')\n",
        "plt.show()\n"
      ]
    }
  ],
  "metadata": {
    "colab": {
      "collapsed_sections": [
        "dx3H9AdQurPH",
        "86iGTnXZnmOl"
      ],
      "provenance": []
    },
    "kernelspec": {
      "display_name": "Python 3",
      "name": "python3"
    },
    "language_info": {
      "name": "python"
    }
  },
  "nbformat": 4,
  "nbformat_minor": 0
}